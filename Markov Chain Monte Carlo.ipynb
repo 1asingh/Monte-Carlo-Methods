{
 "cells": [
  {
   "cell_type": "markdown",
   "metadata": {},
   "source": [
    "## Sampling the Gamma Distribution\n",
    "The gamma distribution is defined as follows \n",
    "$X \\sim \\Gamma(\\alpha, \\beta)$\n",
    "where the pdf of $\\Gamma(\\alpha, \\beta)$ is defined as \n",
    "$$ {\\displaystyle f(x;\\alpha ,\\beta )={\\frac {\\beta ^{\\alpha }x^{\\alpha -1}e^{-\\beta x}}{\\Gamma (\\alpha )}}\\quad {\\text{ for }}x>0{\\text{ and }}\\alpha ,\\beta >0}$$"
   ]
  },
  {
   "cell_type": "code",
   "execution_count": 74,
   "metadata": {},
   "outputs": [],
   "source": [
    "import numpy as np\n",
    "import scipy\n",
    "from matplotlib import pyplot as plt\n",
    "import seaborn as sns\n",
    "from math import *\n",
    "%matplotlib inline"
   ]
  },
  {
   "cell_type": "code",
   "execution_count": 76,
   "metadata": {},
   "outputs": [
    {
     "name": "stdout",
     "output_type": "stream",
     "text": [
      "Enter the value of alpha : 2\n",
      "Enter the value of beta : 3\n"
     ]
    }
   ],
   "source": [
    "alpha = int(input(\"Enter the value of alpha : \"))\n",
    "beta = int(input(\"Enter the value of beta : \"))"
   ]
  },
  {
   "cell_type": "code",
   "execution_count": 77,
   "metadata": {},
   "outputs": [
    {
     "name": "stdout",
     "output_type": "stream",
     "text": [
      "The gamma is distribution is then \n"
     ]
    },
    {
     "data": {
      "text/latex": [
       "$ {\\displaystyle f(x;2 ,3 )={\\frac {3 ^{2 }x^{2 -1}e^{-3 x}}{\\Gamma (2 )}}\\quad {\\text{ for }}x>0{\\text{ and }}\\alpha ,\\beta >0} $"
      ],
      "text/plain": [
       "<IPython.core.display.Latex object>"
      ]
     },
     "execution_count": 77,
     "metadata": {},
     "output_type": "execute_result"
    }
   ],
   "source": [
    "from IPython.display import display, Markdown, Latex\n",
    "print(\"The gamma is distribution is then \")\n",
    "Latex(r'$ {\\displaystyle f(x;%i ,%i )={\\frac {%i ^{%i }x^{%i -1}e^{-%i x}}{\\Gamma (%i )}}\\quad {\\text{ for }}x>0{\\text{ and }}\\alpha ,\\beta >0} $'%(alpha, beta, beta, alpha, alpha, beta, alpha))\n"
   ]
  },
  {
   "cell_type": "markdown",
   "metadata": {},
   "source": [
    "### Target distribution\n",
    "The target is distribution is the gamma distribution. "
   ]
  },
  {
   "cell_type": "code",
   "execution_count": 78,
   "metadata": {},
   "outputs": [],
   "source": [
    "def gamma_function(alpha, beta, x):\n",
    "    return (beta**alpha)*(x**(alpha-1)*np.exp(-beta*x))/(gamma(x))"
   ]
  },
  {
   "cell_type": "code",
   "execution_count": null,
   "metadata": {},
   "outputs": [],
   "source": []
  },
  {
   "cell_type": "code",
   "execution_count": null,
   "metadata": {},
   "outputs": [],
   "source": []
  }
 ],
 "metadata": {
  "kernelspec": {
   "display_name": "Python 3",
   "language": "python",
   "name": "python3"
  },
  "language_info": {
   "codemirror_mode": {
    "name": "ipython",
    "version": 3
   },
   "file_extension": ".py",
   "mimetype": "text/x-python",
   "name": "python",
   "nbconvert_exporter": "python",
   "pygments_lexer": "ipython3",
   "version": "3.6.7"
  }
 },
 "nbformat": 4,
 "nbformat_minor": 2
}
