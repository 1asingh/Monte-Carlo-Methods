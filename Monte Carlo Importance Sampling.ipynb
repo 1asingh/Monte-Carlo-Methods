{
 "cells": [
  {
   "cell_type": "code",
   "execution_count": 10,
   "metadata": {},
   "outputs": [],
   "source": [
    "import numpy as np \n",
    "from matplotlib import pyplot as plt\n",
    "import seaborn as sns\n",
    "%matplotlib inline"
   ]
  },
  {
   "cell_type": "code",
   "execution_count": 11,
   "metadata": {},
   "outputs": [
    {
     "data": {
      "text/plain": [
       "<matplotlib.axes._subplots.AxesSubplot at 0x1a3342db70>"
      ]
     },
     "execution_count": 11,
     "metadata": {},
     "output_type": "execute_result"
    },
    {
     "data": {
      "image/png": "[encoded data removed]",
      "text/plain": [
       "<Figure size 432x288 with 1 Axes>"
      ]
     },
     "metadata": {
      "needs_background": "light"
     },
     "output_type": "display_data"
    }
   ],
   "source": [
    "sample = np.random.uniform(size=100000)\n",
    "sns.distplot(sample, kde=True)"
   ]
  },
  {
   "cell_type": "markdown",
   "metadata": {},
   "source": [
    "## Sampling from a distribution \n",
    "The task at hand is to sample from the univariate normal distribution. To calculate the probability for event $X$ such that\n",
    "$$ X \\sim \\mathcal{N}(0,1) $$\n",
    "$$ f(x) = \\frac{1}{{\\sigma \\sqrt {2\\pi } }}\\exp{{\\frac {(x - \\mu)^2}{2 \\sigma}}} $$\n",
    "We need to simulate the Probability = $P(X > 5)$\n",
    "This can be done using the box muller algorithm to generate the p.d.f of Normal Distribution from $U(0,1)$"
   ]
  },
  {
   "cell_type": "code",
   "execution_count": 33,
   "metadata": {},
   "outputs": [],
   "source": [
    "# Simulate the normal density \n",
    "# Using Box Muller Algorithm \n",
    "from numpy.random import uniform \n",
    "size = 100000000\n",
    "unif1 = np.array(uniform(size=size))\n",
    "unif2 = np.array(uniform(size=size))\n",
    "\n",
    "LOG = np.log(unif1)\n",
    "r = (-2*LOG)**0.5\n",
    "theta = 2*np.pi*unif2\n",
    "x = r*np.cos(theta)\n",
    "y = r*np.sin(theta)"
   ]
  },
  {
   "cell_type": "code",
   "execution_count": null,
   "metadata": {},
   "outputs": [],
   "source": []
  },
  {
   "cell_type": "code",
   "execution_count": 34,
   "metadata": {
    "scrolled": true
   },
   "outputs": [
    {
     "name": "stdout",
     "output_type": "stream",
     "text": [
      "3.4e-07\n"
     ]
    }
   ],
   "source": [
    "# Computing the probability\n",
    "sum = 0\n",
    "# Indicator Random variable h(x)\n",
    "def h(x):\n",
    "    if(x > 5):\n",
    "        return 1\n",
    "    else:\n",
    "        return 0\n",
    "for xi in list(x):\n",
    "    sum += h(xi)\n",
    "    \n",
    "probability = sum/(len(x))\n",
    "print(probability)"
   ]
  },
  {
   "cell_type": "markdown",
   "metadata": {},
   "source": [
    "We see that the Probability of $P(\\mathbf{X}>5)$ is Out[14]: which comes for 100,000,000 simulations"
   ]
  },
  {
   "cell_type": "markdown",
   "metadata": {},
   "source": [
    "\n",
    "## Monte Carlo Integration \n",
    "Monte Carlo is the art of approximating an expectation by the sample\n",
    "mean of a function of simulated random variables. \n",
    "\n",
    "### Problem Statement\n",
    "We need to sample according to the function $$g(x) = \\frac{e^{-(x - \\delta)}}{\\int_{\\delta}^{\\infty}e^{-(x - \\delta)}}$$\n",
    "\n",
    "We have computed the random sample for $f(x)$ to compute the $E_{f}[\\mathbf{X}]$\n",
    "### Importance Sampling\n",
    "There is an easier way to compute the expectation of the random variable X. \n",
    "$$\\Rightarrow E_{f}[h(\\mathbf{X})] = E_{g}[h(\\mathbf{X})\\frac{f(\\mathbf{X})}{g(\\mathbf{X})}]$$"
   ]
  },
  {
   "cell_type": "code",
   "execution_count": 50,
   "metadata": {},
   "outputs": [],
   "source": [
    "def g(x):\n",
    "    exponent = np.exp(-x+5)\n",
    "    return exponent\n",
    "    \n",
    "def f(x):\n",
    "    gauss = np.exp(-x**2/2)/(np.pi*2)**0.5\n",
    "    return gauss"
   ]
  },
  {
   "cell_type": "code",
   "execution_count": 51,
   "metadata": {},
   "outputs": [
    {
     "data": {
      "image/png": "[encoded data removed]",
      "text/plain": [
       "<Figure size 432x288 with 1 Axes>"
      ]
     },
     "metadata": {
      "needs_background": "light"
     },
     "output_type": "display_data"
    },
    {
     "name": "stdout",
     "output_type": "stream",
     "text": [
      "(10000,)\n"
     ]
    }
   ],
   "source": [
    "# Estimating the Expectation value from random sampling\n",
    "# Generate the random variable g(x)\n",
    "dummy_uniform = np.array(uniform(size=10000))\n",
    "exponential = -np.log(dummy_uniform) + 5\n",
    "\n",
    "sns.distplot(exponential, hist=True, kde=True)\n",
    "plt.xlabel(\"X\")\n",
    "plt.show()\n",
    "\n",
    "print(dummy_uniform.shape)"
   ]
  },
  {
   "cell_type": "code",
   "execution_count": 52,
   "metadata": {},
   "outputs": [
    {
     "name": "stdout",
     "output_type": "stream",
     "text": [
      "2.845879050411335e-07\n"
     ]
    }
   ],
   "source": [
    "sum = 0\n",
    "for xi in list(exponential):\n",
    "    sum += h(xi)*(f(xi)/g(xi))\n",
    "probability = sum/(len(exponential))\n",
    "print(probability)"
   ]
  },
  {
   "cell_type": "code",
   "execution_count": null,
   "metadata": {},
   "outputs": [],
   "source": []
  },
  {
   "cell_type": "code",
   "execution_count": null,
   "metadata": {},
   "outputs": [],
   "source": []
  }
 ],
 "metadata": {
  "kernelspec": {
   "display_name": "Python 3",
   "language": "python",
   "name": "python3"
  },
  "language_info": {
   "codemirror_mode": {
    "name": "ipython",
    "version": 3
   },
   "file_extension": ".py",
   "mimetype": "text/x-python",
   "name": "python",
   "nbconvert_exporter": "python",
   "pygments_lexer": "ipython3",
   "version": "3.6.7"
  }
 },
 "nbformat": 4,
 "nbformat_minor": 2
}
